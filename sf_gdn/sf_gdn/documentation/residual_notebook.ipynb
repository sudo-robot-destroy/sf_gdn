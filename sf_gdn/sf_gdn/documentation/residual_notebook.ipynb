{
 "cells": [
  {
   "cell_type": "markdown",
   "metadata": {},
   "source": [
    "\n",
    "<ins>3D odometry residual</ins>\n",
    "\n",
    "![transforms](pngs/3D_odometry_residual.png)  \n",
    "$\\ residual(_WT_A,\\ _WT_B,\\ _AT_B,\\ \\sigma)  $  \n",
    "$\\ _WT_A $ - Previous pose, assume it's correct  \n",
    "$\\ _WT_B $ - The transform being optimized / calculated  \n",
    "$\\ _AT_B $ - From measurement  \n",
    "$\\ \\sigma $ - TODO: MAGICALLY HANDLED WITH TANGENT SPACE PERTUBATIONS  \n",
    "\n",
    "$\\ _A\\hat{T}_B = (_WT_A)^{-1}\\times _WT_B  $  \n",
    "$\\ tangent\\_error = _A\\hat{T}_B.local\\_coordinates(_AT_B) $\n",
    "\n",
    "<ins>Matching residual (2D) </ins>  \n",
    "\n",
    "![transforms](pngs/matching_residual.png)  \n",
    "$\\ residual(_Wt_L,\\ _WT_B,\\ _Bt_L,\\ \\sigma) $  \n",
    "$\\ _Wt_L $ - Known global position of landmark  \n",
    "$\\ _WT_B $ - The transform being optimized / calculated  \n",
    "$\\ _Bt_L $ - From measurement of landmark from current pose   \n",
    "$\\ \\sigma $ - Standard deviation of measurement  \n",
    "\n",
    "$\\ _B\\hat{t}_L = (_WT_B)^{-1}\\times _Wt_L $  \n",
    "$\\ error = \\frac{_B\\hat{t}_L - _Bt_L}{\\sigma} $  \n",
    "Note - The bigger the stddev, the less effect on the optimization\n"
   ]
  }
 ],
 "metadata": {
  "language_info": {
   "name": "python"
  },
  "orig_nbformat": 4
 },
 "nbformat": 4,
 "nbformat_minor": 2
}
